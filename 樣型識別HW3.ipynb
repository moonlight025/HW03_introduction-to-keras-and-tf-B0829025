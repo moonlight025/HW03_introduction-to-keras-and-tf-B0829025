{
  "nbformat": 4,
  "nbformat_minor": 0,
  "metadata": {
    "colab": {
      "provenance": [],
      "authorship_tag": "ABX9TyPgXY9i3BhJx2B35BVbTxx5",
      "include_colab_link": true
    },
    "kernelspec": {
      "name": "python3",
      "display_name": "Python 3"
    },
    "language_info": {
      "name": "python"
    },
    "accelerator": "GPU"
  },
  "cells": [
    {
      "cell_type": "markdown",
      "metadata": {
        "id": "view-in-github",
        "colab_type": "text"
      },
      "source": [
        "<a href=\"https://colab.research.google.com/github/moonlight025/HW03_introduction-to-keras-and-tf-B0829025/blob/main/%E6%A8%A3%E5%9E%8B%E8%AD%98%E5%88%A5HW3.ipynb\" target=\"_parent\"><img src=\"https://colab.research.google.com/assets/colab-badge.svg\" alt=\"Open In Colab\"/></a>"
      ]
    },
    {
      "cell_type": "markdown",
      "source": [
        "**All-ones or all-zeros tensors** "
      ],
      "metadata": {
        "id": "vLDXD6frLRKY"
      }
    },
    {
      "cell_type": "markdown",
      "source": [
        "將 tensorflow 值都設為 1 或 0"
      ],
      "metadata": {
        "id": "pBiXPqB1PNBm"
      }
    },
    {
      "cell_type": "code",
      "execution_count": 1,
      "metadata": {
        "colab": {
          "base_uri": "https://localhost:8080/"
        },
        "id": "dFTq4J9BLEdi",
        "outputId": "777edebc-0c31-4064-824d-b19b31624724"
      },
      "outputs": [
        {
          "output_type": "stream",
          "name": "stdout",
          "text": [
            "tf.Tensor(\n",
            "[[1.]\n",
            " [1.]], shape=(2, 1), dtype=float32)\n"
          ]
        }
      ],
      "source": [
        "import tensorflow as tf\n",
        "x = tf.ones(shape=(2, 1))\n",
        "print(x)"
      ]
    },
    {
      "cell_type": "code",
      "source": [
        "x = tf.zeros(shape=(2, 1))\n",
        "print(x)"
      ],
      "metadata": {
        "colab": {
          "base_uri": "https://localhost:8080/"
        },
        "id": "x4m5k9iqLlBl",
        "outputId": "be379fd9-997c-494b-bba1-672ac1dfd9a7"
      },
      "execution_count": 2,
      "outputs": [
        {
          "output_type": "stream",
          "name": "stdout",
          "text": [
            "tf.Tensor(\n",
            "[[0.]\n",
            " [0.]], shape=(2, 1), dtype=float32)\n"
          ]
        }
      ]
    },
    {
      "cell_type": "markdown",
      "source": [
        "**Random tensors**"
      ],
      "metadata": {
        "id": "_oDanctnPbY-"
      }
    },
    {
      "cell_type": "markdown",
      "source": [
        "將 tensorflow 值用隨機亂數的方式"
      ],
      "metadata": {
        "id": "8pL3fGJkPjt5"
      }
    },
    {
      "cell_type": "code",
      "source": [
        "x = tf.random.normal(shape=(3, 1), mean=0., stddev=1.)\n",
        "print(x)"
      ],
      "metadata": {
        "colab": {
          "base_uri": "https://localhost:8080/"
        },
        "id": "WIzmMEHALlEY",
        "outputId": "1ea9db67-69c5-4bbd-8205-c301709e88a7"
      },
      "execution_count": 3,
      "outputs": [
        {
          "output_type": "stream",
          "name": "stdout",
          "text": [
            "tf.Tensor(\n",
            "[[ 1.0156562 ]\n",
            " [ 1.6228598 ]\n",
            " [-0.27131212]], shape=(3, 1), dtype=float32)\n"
          ]
        }
      ]
    },
    {
      "cell_type": "code",
      "source": [
        "x = tf.random.uniform(shape=(3, 1), minval=0., maxval=1.)\n",
        "print(x)"
      ],
      "metadata": {
        "colab": {
          "base_uri": "https://localhost:8080/"
        },
        "id": "EIiSpp5aLlHW",
        "outputId": "5d01377c-e407-41f2-ec3b-00d3b7d45fd9"
      },
      "execution_count": 4,
      "outputs": [
        {
          "output_type": "stream",
          "name": "stdout",
          "text": [
            "tf.Tensor(\n",
            "[[0.17253625]\n",
            " [0.53895414]\n",
            " [0.5052922 ]], shape=(3, 1), dtype=float32)\n"
          ]
        }
      ]
    },
    {
      "cell_type": "markdown",
      "source": [
        "**NumPy arrays are assignable**"
      ],
      "metadata": {
        "id": "47iZt8EaQTnr"
      }
    },
    {
      "cell_type": "markdown",
      "source": [
        "給值"
      ],
      "metadata": {
        "id": "JbdZMrNDQgg0"
      }
    },
    {
      "cell_type": "code",
      "source": [
        "import numpy as np\n",
        "x = np.ones(shape=(2, 2))\n",
        "x[0, 0] = 0"
      ],
      "metadata": {
        "id": "_zKEFZEWLlKB"
      },
      "execution_count": 5,
      "outputs": []
    },
    {
      "cell_type": "markdown",
      "source": [
        "**Creating a TensorFlow variable**"
      ],
      "metadata": {
        "id": "u0O_HkvkQd5x"
      }
    },
    {
      "cell_type": "code",
      "source": [
        "v = tf.Variable(initial_value=tf.random.normal(shape=(3, 1)))\n",
        "print(v)"
      ],
      "metadata": {
        "colab": {
          "base_uri": "https://localhost:8080/"
        },
        "id": "x_MhNnQeLlMr",
        "outputId": "357b5d48-6c0a-4044-926c-7a5c19cc8a9c"
      },
      "execution_count": 6,
      "outputs": [
        {
          "output_type": "stream",
          "name": "stdout",
          "text": [
            "<tf.Variable 'Variable:0' shape=(3, 1) dtype=float32, numpy=\n",
            "array([[ 0.78563607],\n",
            "       [-1.4748932 ],\n",
            "       [-0.13962853]], dtype=float32)>\n"
          ]
        }
      ]
    },
    {
      "cell_type": "markdown",
      "source": [
        "**Assigning a value to a TensorFlow variable**"
      ],
      "metadata": {
        "id": "6Gk4_FREQ3c4"
      }
    },
    {
      "cell_type": "markdown",
      "source": [
        "給V"
      ],
      "metadata": {
        "id": "5b8zqri6RBnK"
      }
    },
    {
      "cell_type": "code",
      "source": [
        "v.assign(tf.ones((3, 1)))"
      ],
      "metadata": {
        "colab": {
          "base_uri": "https://localhost:8080/"
        },
        "id": "Y3aBWGCFLlPL",
        "outputId": "fde581a7-adac-4038-b59a-96cd9b7827d1"
      },
      "execution_count": 7,
      "outputs": [
        {
          "output_type": "execute_result",
          "data": {
            "text/plain": [
              "<tf.Variable 'UnreadVariable' shape=(3, 1) dtype=float32, numpy=\n",
              "array([[1.],\n",
              "       [1.],\n",
              "       [1.]], dtype=float32)>"
            ]
          },
          "metadata": {},
          "execution_count": 7
        }
      ]
    },
    {
      "cell_type": "markdown",
      "source": [
        "**Assigning a value to a subset of a TensorFlow variable**"
      ],
      "metadata": {
        "id": "Sk_45zqTRKxP"
      }
    },
    {
      "cell_type": "code",
      "source": [
        "v[0, 0].assign(3.)"
      ],
      "metadata": {
        "colab": {
          "base_uri": "https://localhost:8080/"
        },
        "id": "YUTf9uniLlRi",
        "outputId": "f20e6685-0276-4b72-aa7e-cf913b5e4e31"
      },
      "execution_count": 8,
      "outputs": [
        {
          "output_type": "execute_result",
          "data": {
            "text/plain": [
              "<tf.Variable 'UnreadVariable' shape=(3, 1) dtype=float32, numpy=\n",
              "array([[3.],\n",
              "       [1.],\n",
              "       [1.]], dtype=float32)>"
            ]
          },
          "metadata": {},
          "execution_count": 8
        }
      ]
    },
    {
      "cell_type": "markdown",
      "source": [
        "# **Tensor 方程式**"
      ],
      "metadata": {
        "id": "E3JOps1DSDiS"
      }
    },
    {
      "cell_type": "markdown",
      "source": [
        "**A few basic math operations**"
      ],
      "metadata": {
        "id": "AUiTjfQFRQ0H"
      }
    },
    {
      "cell_type": "code",
      "source": [
        "a = tf.ones((2, 2))\n",
        "b = tf.square(a)\n",
        "c = tf.sqrt(a)\n",
        "d = b + c\n",
        "e = tf.matmul(a, b)\n",
        "e *= d"
      ],
      "metadata": {
        "id": "5NwF9QdkR_T_"
      },
      "execution_count": 9,
      "outputs": []
    },
    {
      "cell_type": "markdown",
      "source": [
        "**Using the GradientTape**"
      ],
      "metadata": {
        "id": "irsTqpn1SXfn"
      }
    },
    {
      "cell_type": "code",
      "source": [
        "input_var = tf.Variable(initial_value=3.)\n",
        "with tf.GradientTape() as tape:\n",
        "   result = tf.square(input_var)\n",
        "gradient = tape.gradient(result, input_var)"
      ],
      "metadata": {
        "id": "kQNUGKK6R_at"
      },
      "execution_count": 10,
      "outputs": []
    },
    {
      "cell_type": "markdown",
      "source": [
        "**Using GradientTape with constant tensor inputs**"
      ],
      "metadata": {
        "id": "ujq2kDwnSbjJ"
      }
    },
    {
      "cell_type": "code",
      "source": [
        "input_const = tf.constant(3.)\n",
        "with tf.GradientTape() as tape:\n",
        "   tape.watch(input_const)\n",
        "   result = tf.square(input_const)\n",
        "gradient = tape.gradient(result, input_const)"
      ],
      "metadata": {
        "id": "3xwrhY8dR_ip"
      },
      "execution_count": 11,
      "outputs": []
    },
    {
      "cell_type": "markdown",
      "source": [
        "**Using nested gradient tapes to compute second-order gradients**"
      ],
      "metadata": {
        "id": "28XAqbDCShDx"
      }
    },
    {
      "cell_type": "code",
      "source": [
        "time = tf.Variable(0.)\n",
        "with tf.GradientTape() as outer_tape:\n",
        "    with tf.GradientTape() as inner_tape:\n",
        "        position =  4.9 * time ** 2\n",
        "    speed = inner_tape.gradient(position, time)\n",
        "acceleration = outer_tape.gradient(speed, time)"
      ],
      "metadata": {
        "id": "Dab7k6G6SlgF"
      },
      "execution_count": 12,
      "outputs": []
    },
    {
      "cell_type": "markdown",
      "source": [
        "# **An end-to-end example: A linear classifier in pure TensorFlow**"
      ],
      "metadata": {
        "id": "c7JLzW9hSnkU"
      }
    },
    {
      "cell_type": "markdown",
      "source": [
        "**Generating two classes of random points in a 2D plane**"
      ],
      "metadata": {
        "id": "Q7EOG7EzS0i8"
      }
    },
    {
      "cell_type": "code",
      "source": [
        "num_samples_per_class = 1000\n",
        "negative_samples = np.random.multivariate_normal(\n",
        "    mean=[0, 3],\n",
        "    cov=[[1, 0.5],[0.5, 1]],\n",
        "    size=num_samples_per_class)\n",
        "positive_samples = np.random.multivariate_normal(\n",
        "    mean=[3, 0],\n",
        "    cov=[[1, 0.5],[0.5, 1]],\n",
        "    size=num_samples_per_class)"
      ],
      "metadata": {
        "id": "QQoT4O7ZSs1C"
      },
      "execution_count": 13,
      "outputs": []
    },
    {
      "cell_type": "markdown",
      "source": [
        "**Stacking the two classes into an array with shape (2000, 2)**"
      ],
      "metadata": {
        "id": "BDVF5N5AS6Ax"
      }
    },
    {
      "cell_type": "code",
      "source": [
        "inputs = np.vstack((negative_samples, positive_samples)).astype(np.float32)"
      ],
      "metadata": {
        "id": "1UpiK9uRS901"
      },
      "execution_count": 14,
      "outputs": []
    },
    {
      "cell_type": "markdown",
      "source": [
        "**Generating the corresponding targets (0 and 1)**"
      ],
      "metadata": {
        "id": "oEhGGcHqTDIL"
      }
    },
    {
      "cell_type": "code",
      "source": [
        "targets = np.vstack((np.zeros((num_samples_per_class, 1), dtype=\"float32\"),\n",
        "                     np.ones((num_samples_per_class, 1), dtype=\"float32\")))"
      ],
      "metadata": {
        "id": "055dwMRZTG84"
      },
      "execution_count": 15,
      "outputs": []
    },
    {
      "cell_type": "markdown",
      "source": [
        "**Plotting the two point classes**"
      ],
      "metadata": {
        "id": "60Gyg5VLTKiQ"
      }
    },
    {
      "cell_type": "code",
      "source": [
        "import matplotlib.pyplot as plt\n",
        "plt.scatter(inputs[:, 0], inputs[:, 1], c=targets[:, 0])\n",
        "plt.show()"
      ],
      "metadata": {
        "colab": {
          "base_uri": "https://localhost:8080/",
          "height": 265
        },
        "id": "EJwxxbw5TQBo",
        "outputId": "d42491c2-810f-40e0-8b64-dea8d647ed32"
      },
      "execution_count": 16,
      "outputs": [
        {
          "output_type": "display_data",
          "data": {
            "text/plain": [
              "<Figure size 432x288 with 1 Axes>"
            ],
            "image/png": "[encoded data removed]"
          },
          "metadata": {
            "needs_background": "light"
          }
        }
      ]
    },
    {
      "cell_type": "markdown",
      "source": [
        "**Creating the linear classifier variables**"
      ],
      "metadata": {
        "id": "yKrNaZcRTVR4"
      }
    },
    {
      "cell_type": "code",
      "source": [
        "input_dim = 2\n",
        "output_dim = 1\n",
        "W = tf.Variable(initial_value=tf.random.uniform(shape=(input_dim, output_dim)))\n",
        "b = tf.Variable(initial_value=tf.zeros(shape=(output_dim,)))"
      ],
      "metadata": {
        "id": "WBBgLoQsTZLG"
      },
      "execution_count": 17,
      "outputs": []
    },
    {
      "cell_type": "markdown",
      "source": [
        "**The forward pass function**"
      ],
      "metadata": {
        "id": "dE20NTyCTcVc"
      }
    },
    {
      "cell_type": "code",
      "source": [
        "def model(inputs):\n",
        "    return tf.matmul(inputs, W) + b"
      ],
      "metadata": {
        "id": "oDGxjii2TkaT"
      },
      "execution_count": 18,
      "outputs": []
    },
    {
      "cell_type": "markdown",
      "source": [
        "**The mean squared error loss function**"
      ],
      "metadata": {
        "id": "hVYp1ZS2TnOc"
      }
    },
    {
      "cell_type": "code",
      "source": [
        "def square_loss(targets, predictions):\n",
        "    per_sample_losses = tf.square(targets - predictions)\n",
        "    return tf.reduce_mean(per_sample_losses)"
      ],
      "metadata": {
        "id": "PDgxNB29gwtz"
      },
      "execution_count": 19,
      "outputs": []
    },
    {
      "cell_type": "markdown",
      "source": [
        "**The training step function**"
      ],
      "metadata": {
        "id": "5oBxPKlMgytJ"
      }
    },
    {
      "cell_type": "code",
      "source": [
        "learning_rate = 0.1\n",
        "\n",
        "def training_step(inputs, targets):\n",
        "    with tf.GradientTape() as tape:\n",
        "        predictions = model(inputs)\n",
        "        loss = square_loss(targets, predictions)\n",
        "    grad_loss_wrt_W, grad_loss_wrt_b = tape.gradient(loss, [W, b])\n",
        "    W.assign_sub(grad_loss_wrt_W * learning_rate)\n",
        "    b.assign_sub(grad_loss_wrt_b * learning_rate)\n",
        "    return loss"
      ],
      "metadata": {
        "id": "oOO0UlJZg1YO"
      },
      "execution_count": 20,
      "outputs": []
    },
    {
      "cell_type": "markdown",
      "source": [
        "**The batch training loop**"
      ],
      "metadata": {
        "id": "LIA52rfWg7gk"
      }
    },
    {
      "cell_type": "code",
      "source": [
        "for step in range(40):\n",
        "    loss = training_step(inputs, targets)\n",
        "    print(f\"Loss at step {step}: {loss:.4f}\")"
      ],
      "metadata": {
        "colab": {
          "base_uri": "https://localhost:8080/"
        },
        "id": "oJ0tAKIRg_M0",
        "outputId": "fe4ba18a-c9e2-4139-ff64-0834e45e7ac0"
      },
      "execution_count": 21,
      "outputs": [
        {
          "output_type": "stream",
          "name": "stdout",
          "text": [
            "Loss at step 0: 1.6027\n",
            "Loss at step 1: 0.2537\n",
            "Loss at step 2: 0.1292\n",
            "Loss at step 3: 0.1086\n",
            "Loss at step 4: 0.0999\n",
            "Loss at step 5: 0.0932\n",
            "Loss at step 6: 0.0871\n",
            "Loss at step 7: 0.0816\n",
            "Loss at step 8: 0.0766\n",
            "Loss at step 9: 0.0720\n",
            "Loss at step 10: 0.0678\n",
            "Loss at step 11: 0.0640\n",
            "Loss at step 12: 0.0606\n",
            "Loss at step 13: 0.0574\n",
            "Loss at step 14: 0.0545\n",
            "Loss at step 15: 0.0519\n",
            "Loss at step 16: 0.0495\n",
            "Loss at step 17: 0.0473\n",
            "Loss at step 18: 0.0454\n",
            "Loss at step 19: 0.0435\n",
            "Loss at step 20: 0.0419\n",
            "Loss at step 21: 0.0404\n",
            "Loss at step 22: 0.0390\n",
            "Loss at step 23: 0.0378\n",
            "Loss at step 24: 0.0366\n",
            "Loss at step 25: 0.0356\n",
            "Loss at step 26: 0.0347\n",
            "Loss at step 27: 0.0338\n",
            "Loss at step 28: 0.0330\n",
            "Loss at step 29: 0.0323\n",
            "Loss at step 30: 0.0316\n",
            "Loss at step 31: 0.0310\n",
            "Loss at step 32: 0.0305\n",
            "Loss at step 33: 0.0300\n",
            "Loss at step 34: 0.0296\n",
            "Loss at step 35: 0.0291\n",
            "Loss at step 36: 0.0288\n",
            "Loss at step 37: 0.0284\n",
            "Loss at step 38: 0.0281\n",
            "Loss at step 39: 0.0278\n"
          ]
        }
      ]
    },
    {
      "cell_type": "code",
      "source": [
        "predictions = model(inputs)\n",
        "plt.scatter(inputs[:, 0], inputs[:, 1], c=predictions[:, 0] > 0.5)\n",
        "plt.show()"
      ],
      "metadata": {
        "colab": {
          "base_uri": "https://localhost:8080/",
          "height": 265
        },
        "id": "JsX20jgjhBxC",
        "outputId": "68c10273-e3ac-46f0-f9b2-39d610d89138"
      },
      "execution_count": 22,
      "outputs": [
        {
          "output_type": "display_data",
          "data": {
            "text/plain": [
              "<Figure size 432x288 with 1 Axes>"
            ],
            "image/png": "[encoded data removed]"
          },
          "metadata": {
            "needs_background": "light"
          }
        }
      ]
    },
    {
      "cell_type": "code",
      "source": [
        "x = np.linspace(-1, 4, 100)\n",
        "y = - W[0] /  W[1] * x + (0.5 - b) / W[1]\n",
        "plt.plot(x, y, \"-r\")\n",
        "plt.scatter(inputs[:, 0], inputs[:, 1], c=predictions[:, 0] > 0.5)"
      ],
      "metadata": {
        "colab": {
          "base_uri": "https://localhost:8080/",
          "height": 282
        },
        "id": "K7wDAoe7hD7S",
        "outputId": "18e5d58f-f26d-4e70-98c7-2474af1eab7b"
      },
      "execution_count": 23,
      "outputs": [
        {
          "output_type": "execute_result",
          "data": {
            "text/plain": [
              "<matplotlib.collections.PathCollection at 0x7fe700472990>"
            ]
          },
          "metadata": {},
          "execution_count": 23
        },
        {
          "output_type": "display_data",
          "data": {
            "text/plain": [
              "<Figure size 432x288 with 1 Axes>"
            ],
            "image/png": "[encoded data removed]"
          },
          "metadata": {
            "needs_background": "light"
          }
        }
      ]
    },
    {
      "cell_type": "markdown",
      "source": [
        "**A Dense layer implemented as a Layer subclass**"
      ],
      "metadata": {
        "id": "VoN9DxsOhHwR"
      }
    },
    {
      "cell_type": "code",
      "source": [
        "from tensorflow import keras\n",
        "\n",
        "class SimpleDense(keras.layers.Layer):\n",
        "\n",
        "    def __init__(self, units, activation=None):\n",
        "        super().__init__()\n",
        "        self.units = units\n",
        "        self.activation = activation\n",
        "\n",
        "    def build(self, input_shape):\n",
        "        input_dim = input_shape[-1]\n",
        "        self.W = self.add_weight(shape=(input_dim, self.units),\n",
        "                                 initializer=\"random_normal\")\n",
        "        self.b = self.add_weight(shape=(self.units,),\n",
        "                                 initializer=\"zeros\")\n",
        "\n",
        "    def call(self, inputs):\n",
        "        y = tf.matmul(inputs, self.W) + self.b\n",
        "        if self.activation is not None:\n",
        "            y = self.activation(y)\n",
        "        return y"
      ],
      "metadata": {
        "id": "exNlumfhhF02"
      },
      "execution_count": 24,
      "outputs": []
    },
    {
      "cell_type": "code",
      "source": [
        "my_dense = SimpleDense(units=32, activation=tf.nn.relu)\n",
        "input_tensor = tf.ones(shape=(2, 784))\n",
        "output_tensor = my_dense(input_tensor)\n",
        "print(output_tensor.shape)"
      ],
      "metadata": {
        "colab": {
          "base_uri": "https://localhost:8080/"
        },
        "id": "2UlI4BOHhMty",
        "outputId": "a2284c99-5dd8-4d34-b073-a1636e67d289"
      },
      "execution_count": 25,
      "outputs": [
        {
          "output_type": "stream",
          "name": "stdout",
          "text": [
            "(2, 32)\n"
          ]
        }
      ]
    },
    {
      "cell_type": "markdown",
      "source": [
        "**Automatic shape inference: Building layers on the fly**"
      ],
      "metadata": {
        "id": "yzudgb1FhP-r"
      }
    },
    {
      "cell_type": "code",
      "source": [
        "from tensorflow.keras import layers\n",
        "layer = layers.Dense(32, activation=\"relu\")"
      ],
      "metadata": {
        "id": "scYgMhG0hRPn"
      },
      "execution_count": 26,
      "outputs": []
    },
    {
      "cell_type": "code",
      "source": [
        "from tensorflow.keras import models\n",
        "from tensorflow.keras import layers\n",
        "model = models.Sequential([\n",
        "    layers.Dense(32, activation=\"relu\"),\n",
        "    layers.Dense(32)\n",
        "])"
      ],
      "metadata": {
        "id": "7fytelfphS6L"
      },
      "execution_count": 27,
      "outputs": []
    },
    {
      "cell_type": "code",
      "source": [
        "model = keras.Sequential([\n",
        "    SimpleDense(32, activation=\"relu\"),\n",
        "    SimpleDense(64, activation=\"relu\"),\n",
        "    SimpleDense(32, activation=\"relu\"),\n",
        "    SimpleDense(10, activation=\"softmax\")\n",
        "])"
      ],
      "metadata": {
        "id": "SShyGFcthUaH"
      },
      "execution_count": 28,
      "outputs": []
    },
    {
      "cell_type": "markdown",
      "source": [
        "**The \"compile\" step: Configuring the learning process**"
      ],
      "metadata": {
        "id": "_EM7E9JJhZ1w"
      }
    },
    {
      "cell_type": "code",
      "source": [
        "model = keras.Sequential([keras.layers.Dense(1)])\n",
        "model.compile(optimizer=\"rmsprop\",\n",
        "              loss=\"mean_squared_error\",\n",
        "              metrics=[\"accuracy\"])"
      ],
      "metadata": {
        "id": "rtHhqRifhZCL"
      },
      "execution_count": 29,
      "outputs": []
    },
    {
      "cell_type": "code",
      "source": [
        "model.compile(optimizer=keras.optimizers.RMSprop(),\n",
        "              loss=keras.losses.MeanSquaredError(),\n",
        "              metrics=[keras.metrics.BinaryAccuracy()])"
      ],
      "metadata": {
        "id": "hv3IUvh2hrIF"
      },
      "execution_count": 30,
      "outputs": []
    },
    {
      "cell_type": "markdown",
      "source": [
        "**Picking a loss function**"
      ],
      "metadata": {
        "id": "BNxjwVoChu4V"
      }
    },
    {
      "cell_type": "code",
      "source": [
        "history = model.fit(\n",
        "    inputs,\n",
        "    targets,\n",
        "    epochs=5,\n",
        "    batch_size=128\n",
        ")"
      ],
      "metadata": {
        "colab": {
          "base_uri": "https://localhost:8080/"
        },
        "id": "oR8EZLtbhxuh",
        "outputId": "2e9a84cd-e14e-497a-8ae8-1cc4ec2d1ac8"
      },
      "execution_count": 31,
      "outputs": [
        {
          "output_type": "stream",
          "name": "stdout",
          "text": [
            "Epoch 1/5\n",
            "16/16 [==============================] - 1s 3ms/step - loss: 11.5888 - binary_accuracy: 0.9990\n",
            "Epoch 2/5\n",
            "16/16 [==============================] - 0s 2ms/step - loss: 11.1790 - binary_accuracy: 0.9990\n",
            "Epoch 3/5\n",
            "16/16 [==============================] - 0s 3ms/step - loss: 10.8300 - binary_accuracy: 0.9995\n",
            "Epoch 4/5\n",
            "16/16 [==============================] - 0s 2ms/step - loss: 10.4956 - binary_accuracy: 0.9995\n",
            "Epoch 5/5\n",
            "16/16 [==============================] - 0s 2ms/step - loss: 10.1680 - binary_accuracy: 0.9995\n"
          ]
        }
      ]
    },
    {
      "cell_type": "code",
      "source": [
        "history.history"
      ],
      "metadata": {
        "colab": {
          "base_uri": "https://localhost:8080/"
        },
        "id": "UibaTjv4hx0T",
        "outputId": "72dfe7e7-d62f-4b16-e5c9-ceda45151649"
      },
      "execution_count": 32,
      "outputs": [
        {
          "output_type": "execute_result",
          "data": {
            "text/plain": [
              "{'loss': [11.588781356811523,\n",
              "  11.179045677185059,\n",
              "  10.829971313476562,\n",
              "  10.495636940002441,\n",
              "  10.168042182922363],\n",
              " 'binary_accuracy': [0.9990000128746033,\n",
              "  0.9990000128746033,\n",
              "  0.9994999766349792,\n",
              "  0.9994999766349792,\n",
              "  0.9994999766349792]}"
            ]
          },
          "metadata": {},
          "execution_count": 32
        }
      ]
    },
    {
      "cell_type": "markdown",
      "source": [
        "**Monitoring loss and metrics on validation data**"
      ],
      "metadata": {
        "id": "EFaU0YrTh2ne"
      }
    },
    {
      "cell_type": "code",
      "source": [
        "model = keras.Sequential([keras.layers.Dense(1)])\n",
        "model.compile(optimizer=keras.optimizers.RMSprop(learning_rate=0.1),\n",
        "              loss=keras.losses.MeanSquaredError(),\n",
        "              metrics=[keras.metrics.BinaryAccuracy()])\n",
        "\n",
        "indices_permutation = np.random.permutation(len(inputs))\n",
        "shuffled_inputs = inputs[indices_permutation]\n",
        "shuffled_targets = targets[indices_permutation]\n",
        "\n",
        "num_validation_samples = int(0.3 * len(inputs))\n",
        "val_inputs = shuffled_inputs[:num_validation_samples]\n",
        "val_targets = shuffled_targets[:num_validation_samples]\n",
        "training_inputs = shuffled_inputs[num_validation_samples:]\n",
        "training_targets = shuffled_targets[num_validation_samples:]\n",
        "model.fit(\n",
        "    training_inputs,\n",
        "    training_targets,\n",
        "    epochs=5,\n",
        "    batch_size=16,\n",
        "    validation_data=(val_inputs, val_targets)\n",
        ")"
      ],
      "metadata": {
        "colab": {
          "base_uri": "https://localhost:8080/"
        },
        "id": "ZDmxhQ2sh1z7",
        "outputId": "1c9b03f8-2a2f-45ba-e078-7769ca258ee3"
      },
      "execution_count": 33,
      "outputs": [
        {
          "output_type": "stream",
          "name": "stdout",
          "text": [
            "Epoch 1/5\n",
            "88/88 [==============================] - 1s 5ms/step - loss: 0.1411 - binary_accuracy: 0.9393 - val_loss: 0.0348 - val_binary_accuracy: 1.0000\n",
            "Epoch 2/5\n",
            "88/88 [==============================] - 0s 3ms/step - loss: 0.0723 - binary_accuracy: 0.9593 - val_loss: 0.0361 - val_binary_accuracy: 1.0000\n",
            "Epoch 3/5\n",
            "88/88 [==============================] - 0s 5ms/step - loss: 0.0664 - binary_accuracy: 0.9721 - val_loss: 0.0381 - val_binary_accuracy: 1.0000\n",
            "Epoch 4/5\n",
            "88/88 [==============================] - 0s 6ms/step - loss: 0.0735 - binary_accuracy: 0.9550 - val_loss: 0.0294 - val_binary_accuracy: 1.0000\n",
            "Epoch 5/5\n",
            "88/88 [==============================] - 1s 7ms/step - loss: 0.0691 - binary_accuracy: 0.9550 - val_loss: 0.0271 - val_binary_accuracy: 1.0000\n"
          ]
        },
        {
          "output_type": "execute_result",
          "data": {
            "text/plain": [
              "<keras.callbacks.History at 0x7fe6aa0f2450>"
            ]
          },
          "metadata": {},
          "execution_count": 33
        }
      ]
    },
    {
      "cell_type": "markdown",
      "source": [
        "**Inference: Using a model after training**"
      ],
      "metadata": {
        "id": "dJjlokT6h8LP"
      }
    },
    {
      "cell_type": "code",
      "source": [
        "predictions = model.predict(val_inputs, batch_size=128)\n",
        "print(predictions[:10])"
      ],
      "metadata": {
        "colab": {
          "base_uri": "https://localhost:8080/"
        },
        "id": "g1FKaeCSh16y",
        "outputId": "e462d4c4-6992-4c94-fd3d-85906346e383"
      },
      "execution_count": 34,
      "outputs": [
        {
          "output_type": "stream",
          "name": "stdout",
          "text": [
            "[[-0.06394592]\n",
            " [ 1.3166386 ]\n",
            " [ 1.1145216 ]\n",
            " [ 0.8704847 ]\n",
            " [ 0.14587983]\n",
            " [ 0.71045756]\n",
            " [ 0.73691666]\n",
            " [ 1.1761703 ]\n",
            " [ 0.17401215]\n",
            " [ 0.7540064 ]]\n"
          ]
        }
      ]
    }
  ]
}